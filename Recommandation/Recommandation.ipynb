{
 "cells": [
  {
   "cell_type": "markdown",
   "metadata": {},
   "source": [
    "# Système de recommandation"
   ]
  },
  {
   "cell_type": "code",
   "execution_count": 1,
   "metadata": {},
   "outputs": [],
   "source": [
    "import math\n",
    "import numpy as np\n",
    "import pandas as pd\n",
    "from scipy.sparse import csr_matrix\n",
    "from scipy.spatial.distance import pdist, squareform\n",
    "from sklearn.metrics import mean_squared_error\n",
    "from sklearn.metrics import pairwise_distances\n",
    "from sklearn.neighbors import NearestNeighbors"
   ]
  },
  {
   "cell_type": "markdown",
   "metadata": {},
   "source": [
    "## 1.Chargement des données"
   ]
  },
  {
   "cell_type": "code",
   "execution_count": 2,
   "metadata": {},
   "outputs": [],
   "source": [
    "df_ratings = pd.read_csv(\n",
    "    'Reviews.csv',\n",
    "    usecols=['customer', 'productId', 'rating'],\n",
    "    dtype={'customer': 'int32', 'productId': 'int32', 'rating': 'float32'})\n",
    "\n",
    "df_products = pd.read_csv(\n",
    "    'Products.csv',\n",
    "    usecols=['productId', 'title'],\n",
    "    dtype={'productId': 'int32', 'title': 'str'})"
   ]
  },
  {
   "cell_type": "markdown",
   "metadata": {},
   "source": [
    "## 2. action sur les données 'Products'"
   ]
  },
  {
   "cell_type": "code",
   "execution_count": 3,
   "metadata": {},
   "outputs": [
    {
     "data": {
      "text/plain": [
       "(549, 2)"
      ]
     },
     "execution_count": 3,
     "metadata": {},
     "output_type": "execute_result"
    }
   ],
   "source": [
    "df_products.shape"
   ]
  },
  {
   "cell_type": "code",
   "execution_count": 4,
   "metadata": {},
   "outputs": [
    {
     "data": {
      "text/html": [
       "<div>\n",
       "<style scoped>\n",
       "    .dataframe tbody tr th:only-of-type {\n",
       "        vertical-align: middle;\n",
       "    }\n",
       "\n",
       "    .dataframe tbody tr th {\n",
       "        vertical-align: top;\n",
       "    }\n",
       "\n",
       "    .dataframe thead th {\n",
       "        text-align: right;\n",
       "    }\n",
       "</style>\n",
       "<table border=\"1\" class=\"dataframe\">\n",
       "  <thead>\n",
       "    <tr style=\"text-align: right;\">\n",
       "      <th></th>\n",
       "      <th>productId</th>\n",
       "      <th>title</th>\n",
       "    </tr>\n",
       "  </thead>\n",
       "  <tbody>\n",
       "    <tr>\n",
       "      <th>0</th>\n",
       "      <td>620</td>\n",
       "      <td>Toddler Boys Camo Print Hoodie &amp; Sweatpants</td>\n",
       "    </tr>\n",
       "    <tr>\n",
       "      <th>1</th>\n",
       "      <td>619</td>\n",
       "      <td>SHEIN Girls Solid Cami Top &amp; Belted Pants Set</td>\n",
       "    </tr>\n",
       "    <tr>\n",
       "      <th>2</th>\n",
       "      <td>618</td>\n",
       "      <td>SHEIN Girls Colorblock Slogan Graphic Pullover</td>\n",
       "    </tr>\n",
       "    <tr>\n",
       "      <th>3</th>\n",
       "      <td>617</td>\n",
       "      <td>SHEIN Girls Drop Shoulder Plaid Sweatshirt</td>\n",
       "    </tr>\n",
       "    <tr>\n",
       "      <th>4</th>\n",
       "      <td>616</td>\n",
       "      <td>SHEIN Girls Drop Shoulder Letter Hoodie &amp; Camo...</td>\n",
       "    </tr>\n",
       "  </tbody>\n",
       "</table>\n",
       "</div>"
      ],
      "text/plain": [
       "   productId                                              title\n",
       "0        620        Toddler Boys Camo Print Hoodie & Sweatpants\n",
       "1        619      SHEIN Girls Solid Cami Top & Belted Pants Set\n",
       "2        618     SHEIN Girls Colorblock Slogan Graphic Pullover\n",
       "3        617         SHEIN Girls Drop Shoulder Plaid Sweatshirt\n",
       "4        616  SHEIN Girls Drop Shoulder Letter Hoodie & Camo..."
      ]
     },
     "execution_count": 4,
     "metadata": {},
     "output_type": "execute_result"
    }
   ],
   "source": [
    "df_products.head()"
   ]
  },
  {
   "cell_type": "code",
   "execution_count": 5,
   "metadata": {},
   "outputs": [],
   "source": [
    "# obtenir le titre de produit a prtir de son Id\n",
    "def productTitle(productId):\n",
    "    for ligne in df_products.values:\n",
    "        if ligne[0]==productId:\n",
    "            return ligne[1]"
   ]
  },
  {
   "cell_type": "code",
   "execution_count": 6,
   "metadata": {},
   "outputs": [
    {
     "data": {
      "text/plain": [
       "'Toddler Boys Camo Print Hoodie & Sweatpants'"
      ]
     },
     "execution_count": 6,
     "metadata": {},
     "output_type": "execute_result"
    }
   ],
   "source": [
    "productTitle(620)"
   ]
  },
  {
   "cell_type": "markdown",
   "metadata": {},
   "source": [
    "## 3. action sur les données 'Ratings'"
   ]
  },
  {
   "cell_type": "code",
   "execution_count": 7,
   "metadata": {},
   "outputs": [
    {
     "data": {
      "text/plain": [
       "(1781, 3)"
      ]
     },
     "execution_count": 7,
     "metadata": {},
     "output_type": "execute_result"
    }
   ],
   "source": [
    "df_ratings.shape"
   ]
  },
  {
   "cell_type": "code",
   "execution_count": 8,
   "metadata": {},
   "outputs": [
    {
     "data": {
      "text/html": [
       "<div>\n",
       "<style scoped>\n",
       "    .dataframe tbody tr th:only-of-type {\n",
       "        vertical-align: middle;\n",
       "    }\n",
       "\n",
       "    .dataframe tbody tr th {\n",
       "        vertical-align: top;\n",
       "    }\n",
       "\n",
       "    .dataframe thead th {\n",
       "        text-align: right;\n",
       "    }\n",
       "</style>\n",
       "<table border=\"1\" class=\"dataframe\">\n",
       "  <thead>\n",
       "    <tr style=\"text-align: right;\">\n",
       "      <th></th>\n",
       "      <th>customer</th>\n",
       "      <th>productId</th>\n",
       "      <th>rating</th>\n",
       "    </tr>\n",
       "  </thead>\n",
       "  <tbody>\n",
       "    <tr>\n",
       "      <th>0</th>\n",
       "      <td>1</td>\n",
       "      <td>541</td>\n",
       "      <td>4.0</td>\n",
       "    </tr>\n",
       "    <tr>\n",
       "      <th>1</th>\n",
       "      <td>1</td>\n",
       "      <td>540</td>\n",
       "      <td>4.0</td>\n",
       "    </tr>\n",
       "    <tr>\n",
       "      <th>2</th>\n",
       "      <td>1</td>\n",
       "      <td>539</td>\n",
       "      <td>5.0</td>\n",
       "    </tr>\n",
       "    <tr>\n",
       "      <th>3</th>\n",
       "      <td>1</td>\n",
       "      <td>538</td>\n",
       "      <td>3.0</td>\n",
       "    </tr>\n",
       "    <tr>\n",
       "      <th>4</th>\n",
       "      <td>1</td>\n",
       "      <td>537</td>\n",
       "      <td>3.0</td>\n",
       "    </tr>\n",
       "  </tbody>\n",
       "</table>\n",
       "</div>"
      ],
      "text/plain": [
       "   customer  productId  rating\n",
       "0         1        541     4.0\n",
       "1         1        540     4.0\n",
       "2         1        539     5.0\n",
       "3         1        538     3.0\n",
       "4         1        537     3.0"
      ]
     },
     "execution_count": 8,
     "metadata": {},
     "output_type": "execute_result"
    }
   ],
   "source": [
    "df_ratings.head()"
   ]
  },
  {
   "cell_type": "code",
   "execution_count": 9,
   "metadata": {},
   "outputs": [
    {
     "data": {
      "text/html": [
       "<div>\n",
       "<style scoped>\n",
       "    .dataframe tbody tr th:only-of-type {\n",
       "        vertical-align: middle;\n",
       "    }\n",
       "\n",
       "    .dataframe tbody tr th {\n",
       "        vertical-align: top;\n",
       "    }\n",
       "\n",
       "    .dataframe thead th {\n",
       "        text-align: right;\n",
       "    }\n",
       "</style>\n",
       "<table border=\"1\" class=\"dataframe\">\n",
       "  <thead>\n",
       "    <tr style=\"text-align: right;\">\n",
       "      <th>productId</th>\n",
       "      <th>48</th>\n",
       "      <th>49</th>\n",
       "      <th>50</th>\n",
       "      <th>51</th>\n",
       "      <th>52</th>\n",
       "      <th>53</th>\n",
       "      <th>54</th>\n",
       "      <th>55</th>\n",
       "      <th>56</th>\n",
       "      <th>57</th>\n",
       "      <th>...</th>\n",
       "      <th>611</th>\n",
       "      <th>612</th>\n",
       "      <th>613</th>\n",
       "      <th>614</th>\n",
       "      <th>615</th>\n",
       "      <th>616</th>\n",
       "      <th>617</th>\n",
       "      <th>618</th>\n",
       "      <th>619</th>\n",
       "      <th>620</th>\n",
       "    </tr>\n",
       "    <tr>\n",
       "      <th>customer</th>\n",
       "      <th></th>\n",
       "      <th></th>\n",
       "      <th></th>\n",
       "      <th></th>\n",
       "      <th></th>\n",
       "      <th></th>\n",
       "      <th></th>\n",
       "      <th></th>\n",
       "      <th></th>\n",
       "      <th></th>\n",
       "      <th></th>\n",
       "      <th></th>\n",
       "      <th></th>\n",
       "      <th></th>\n",
       "      <th></th>\n",
       "      <th></th>\n",
       "      <th></th>\n",
       "      <th></th>\n",
       "      <th></th>\n",
       "      <th></th>\n",
       "      <th></th>\n",
       "    </tr>\n",
       "  </thead>\n",
       "  <tbody>\n",
       "    <tr>\n",
       "      <th>1</th>\n",
       "      <td>1.0</td>\n",
       "      <td>2.0</td>\n",
       "      <td>2.0</td>\n",
       "      <td>4.0</td>\n",
       "      <td>1.0</td>\n",
       "      <td>4.0</td>\n",
       "      <td>3.0</td>\n",
       "      <td>2.0</td>\n",
       "      <td>4.0</td>\n",
       "      <td>1.0</td>\n",
       "      <td>...</td>\n",
       "      <td>0.0</td>\n",
       "      <td>0.0</td>\n",
       "      <td>0.0</td>\n",
       "      <td>0.0</td>\n",
       "      <td>0.0</td>\n",
       "      <td>0.0</td>\n",
       "      <td>0.0</td>\n",
       "      <td>0.0</td>\n",
       "      <td>0.0</td>\n",
       "      <td>0.0</td>\n",
       "    </tr>\n",
       "    <tr>\n",
       "      <th>2</th>\n",
       "      <td>0.0</td>\n",
       "      <td>0.0</td>\n",
       "      <td>0.0</td>\n",
       "      <td>0.0</td>\n",
       "      <td>0.0</td>\n",
       "      <td>0.0</td>\n",
       "      <td>0.0</td>\n",
       "      <td>0.0</td>\n",
       "      <td>0.0</td>\n",
       "      <td>0.0</td>\n",
       "      <td>...</td>\n",
       "      <td>4.0</td>\n",
       "      <td>4.0</td>\n",
       "      <td>1.0</td>\n",
       "      <td>4.0</td>\n",
       "      <td>4.0</td>\n",
       "      <td>4.0</td>\n",
       "      <td>1.0</td>\n",
       "      <td>4.0</td>\n",
       "      <td>1.0</td>\n",
       "      <td>5.0</td>\n",
       "    </tr>\n",
       "    <tr>\n",
       "      <th>3</th>\n",
       "      <td>4.0</td>\n",
       "      <td>2.0</td>\n",
       "      <td>4.0</td>\n",
       "      <td>3.0</td>\n",
       "      <td>5.0</td>\n",
       "      <td>4.0</td>\n",
       "      <td>2.0</td>\n",
       "      <td>3.0</td>\n",
       "      <td>3.0</td>\n",
       "      <td>4.0</td>\n",
       "      <td>...</td>\n",
       "      <td>4.0</td>\n",
       "      <td>2.0</td>\n",
       "      <td>2.0</td>\n",
       "      <td>3.0</td>\n",
       "      <td>5.0</td>\n",
       "      <td>5.0</td>\n",
       "      <td>5.0</td>\n",
       "      <td>1.0</td>\n",
       "      <td>5.0</td>\n",
       "      <td>2.0</td>\n",
       "    </tr>\n",
       "    <tr>\n",
       "      <th>4</th>\n",
       "      <td>0.0</td>\n",
       "      <td>0.0</td>\n",
       "      <td>0.0</td>\n",
       "      <td>0.0</td>\n",
       "      <td>0.0</td>\n",
       "      <td>0.0</td>\n",
       "      <td>0.0</td>\n",
       "      <td>0.0</td>\n",
       "      <td>0.0</td>\n",
       "      <td>0.0</td>\n",
       "      <td>...</td>\n",
       "      <td>0.0</td>\n",
       "      <td>0.0</td>\n",
       "      <td>0.0</td>\n",
       "      <td>0.0</td>\n",
       "      <td>0.0</td>\n",
       "      <td>0.0</td>\n",
       "      <td>0.0</td>\n",
       "      <td>0.0</td>\n",
       "      <td>0.0</td>\n",
       "      <td>0.0</td>\n",
       "    </tr>\n",
       "    <tr>\n",
       "      <th>6</th>\n",
       "      <td>0.0</td>\n",
       "      <td>0.0</td>\n",
       "      <td>0.0</td>\n",
       "      <td>0.0</td>\n",
       "      <td>0.0</td>\n",
       "      <td>0.0</td>\n",
       "      <td>0.0</td>\n",
       "      <td>0.0</td>\n",
       "      <td>0.0</td>\n",
       "      <td>0.0</td>\n",
       "      <td>...</td>\n",
       "      <td>0.0</td>\n",
       "      <td>0.0</td>\n",
       "      <td>0.0</td>\n",
       "      <td>0.0</td>\n",
       "      <td>0.0</td>\n",
       "      <td>0.0</td>\n",
       "      <td>0.0</td>\n",
       "      <td>0.0</td>\n",
       "      <td>0.0</td>\n",
       "      <td>0.0</td>\n",
       "    </tr>\n",
       "  </tbody>\n",
       "</table>\n",
       "<p>5 rows × 549 columns</p>\n",
       "</div>"
      ],
      "text/plain": [
       "productId  48   49   50   51   52   53   54   55   56   57   ...  611  612  \\\n",
       "customer                                                     ...             \n",
       "1          1.0  2.0  2.0  4.0  1.0  4.0  3.0  2.0  4.0  1.0  ...  0.0  0.0   \n",
       "2          0.0  0.0  0.0  0.0  0.0  0.0  0.0  0.0  0.0  0.0  ...  4.0  4.0   \n",
       "3          4.0  2.0  4.0  3.0  5.0  4.0  2.0  3.0  3.0  4.0  ...  4.0  2.0   \n",
       "4          0.0  0.0  0.0  0.0  0.0  0.0  0.0  0.0  0.0  0.0  ...  0.0  0.0   \n",
       "6          0.0  0.0  0.0  0.0  0.0  0.0  0.0  0.0  0.0  0.0  ...  0.0  0.0   \n",
       "\n",
       "productId  613  614  615  616  617  618  619  620  \n",
       "customer                                           \n",
       "1          0.0  0.0  0.0  0.0  0.0  0.0  0.0  0.0  \n",
       "2          1.0  4.0  4.0  4.0  1.0  4.0  1.0  5.0  \n",
       "3          2.0  3.0  5.0  5.0  5.0  1.0  5.0  2.0  \n",
       "4          0.0  0.0  0.0  0.0  0.0  0.0  0.0  0.0  \n",
       "6          0.0  0.0  0.0  0.0  0.0  0.0  0.0  0.0  \n",
       "\n",
       "[5 rows x 549 columns]"
      ]
     },
     "execution_count": 9,
     "metadata": {},
     "output_type": "execute_result"
    }
   ],
   "source": [
    "# matrice product_user\n",
    "product_user_mat = df_ratings.pivot(index='productId', columns='customer', values='rating').fillna(0)\n",
    "product_user_mat.T.head()       # Transposé du matrice product_user       "
   ]
  },
  {
   "cell_type": "code",
   "execution_count": 10,
   "metadata": {},
   "outputs": [],
   "source": [
    "# identifier les produits évalué par chaque utilisateur\n",
    "rate = {}\n",
    "ligne_idx ={}\n",
    "for idUser, ligne in product_user_mat.T.iterrows():\n",
    "    ligneIdx = [x for x in range(0, len(product_user_mat.T.columns))]  #[0,1,.....] pour \n",
    "    combine_PrdId_Rat_idx = list(zip(ligne.index, ligne.values, ligneIdx))   # [(productid, rating, index),....]\n",
    "    rated = [(prdId, idx) for prdId, rat, idx in combine_PrdId_Rat_idx if rat !=0 ]\n",
    "    ligne_prdTitleReted = [r[0] for r in rated]\n",
    "    ligne_index = [r[1] for r in rated]\n",
    "    rate[idUser] = ligne_prdTitleReted\n",
    "    ligne_idx[idUser] = ligne_index"
   ]
  },
  {
   "cell_type": "code",
   "execution_count": 11,
   "metadata": {},
   "outputs": [
    {
     "name": "stdout",
     "output_type": "stream",
     "text": [
      "Sweater Dress Winter\n",
      "Beach Dress Woman\n",
      "Long Party Dresses\n",
      "new women's hollow slim dress\n",
      "Midi Dresses Spring Women\n",
      "Long beaut Dress Elegant\n",
      "white lace dress women\n",
      "Autumn New Dresses Classic\n",
      "Sweater Long Dresses\n",
      "Cute Large Dress Big Robe\n"
     ]
    }
   ],
   "source": [
    "# Afficher 10 produits évalué par l'utilisateur i\n",
    "i=1\n",
    "for prdId in rate[i][:10]:\n",
    "    print(productTitle(prdId))"
   ]
  },
  {
   "cell_type": "code",
   "execution_count": 12,
   "metadata": {},
   "outputs": [],
   "source": [
    "# identifier les produits qui ne sont pas évalué par chaque utilisateur\n",
    "norate = {}\n",
    "ligne_idx2 ={}\n",
    "for idUser, ligne in product_user_mat.T.iterrows():\n",
    "    ligneIdx = [x for x in range(0, len(product_user_mat.T.columns))]  #[0,1,.....] pour \n",
    "    combine_PrdId_Rat_idx = list(zip(ligne.index, ligne.values, ligneIdx))   # [(productid, rating, index),....]\n",
    "    rated = [(prdId, idx) for prdId, rat, idx in combine_PrdId_Rat_idx if rat ==0 ]\n",
    "    ligne_prdTitleReted = [r[0] for r in rated]\n",
    "    ligne_index = [r[1] for r in rated]\n",
    "    norate[idUser] = ligne_prdTitleReted\n",
    "    ligne_idx2[idUser] = ligne_index"
   ]
  },
  {
   "cell_type": "code",
   "execution_count": 13,
   "metadata": {},
   "outputs": [
    {
     "name": "stdout",
     "output_type": "stream",
     "text": [
      "Men Halloween Pumpkin Design Stud Earrings\n",
      "Men Halloween Skull Charm Necklace\n",
      "Men Bat Decor Stud Earrings\n",
      "Men Spider Design Earring Jackets\n",
      "Men Rhinestone Decor Skull Earring Jackets\n",
      "2pcs Men Eye Decor Ring\n",
      "Men Halloween Pumpkin Design Stud Earrings\n",
      "Men Rhinestone Decor Skull Design Ring\n",
      "2pcs Men Eye Design Ring\n",
      "Men Skull Decor Mittens Bracelet\n"
     ]
    }
   ],
   "source": [
    "# Afficher 10 produits non évalué par l'utilisateur i\n",
    "i=1\n",
    "for prdId in norate[i][:10]:\n",
    "    print(productTitle(prdId))     "
   ]
  },
  {
   "cell_type": "code",
   "execution_count": 14,
   "metadata": {},
   "outputs": [
    {
     "data": {
      "text/html": [
       "<div>\n",
       "<style scoped>\n",
       "    .dataframe tbody tr th:only-of-type {\n",
       "        vertical-align: middle;\n",
       "    }\n",
       "\n",
       "    .dataframe tbody tr th {\n",
       "        vertical-align: top;\n",
       "    }\n",
       "\n",
       "    .dataframe thead th {\n",
       "        text-align: right;\n",
       "    }\n",
       "</style>\n",
       "<table border=\"1\" class=\"dataframe\">\n",
       "  <thead>\n",
       "    <tr style=\"text-align: right;\">\n",
       "      <th>customer</th>\n",
       "      <th>1</th>\n",
       "      <th>2</th>\n",
       "      <th>3</th>\n",
       "      <th>4</th>\n",
       "      <th>6</th>\n",
       "      <th>8</th>\n",
       "    </tr>\n",
       "    <tr>\n",
       "      <th>productId</th>\n",
       "      <th></th>\n",
       "      <th></th>\n",
       "      <th></th>\n",
       "      <th></th>\n",
       "      <th></th>\n",
       "      <th></th>\n",
       "    </tr>\n",
       "  </thead>\n",
       "  <tbody>\n",
       "    <tr>\n",
       "      <th>48</th>\n",
       "      <td>1.0</td>\n",
       "      <td>0.0</td>\n",
       "      <td>4.0</td>\n",
       "      <td>0.0</td>\n",
       "      <td>0.0</td>\n",
       "      <td>1.0</td>\n",
       "    </tr>\n",
       "    <tr>\n",
       "      <th>49</th>\n",
       "      <td>2.0</td>\n",
       "      <td>0.0</td>\n",
       "      <td>2.0</td>\n",
       "      <td>0.0</td>\n",
       "      <td>0.0</td>\n",
       "      <td>3.0</td>\n",
       "    </tr>\n",
       "    <tr>\n",
       "      <th>50</th>\n",
       "      <td>2.0</td>\n",
       "      <td>0.0</td>\n",
       "      <td>4.0</td>\n",
       "      <td>0.0</td>\n",
       "      <td>0.0</td>\n",
       "      <td>5.0</td>\n",
       "    </tr>\n",
       "    <tr>\n",
       "      <th>51</th>\n",
       "      <td>4.0</td>\n",
       "      <td>0.0</td>\n",
       "      <td>3.0</td>\n",
       "      <td>0.0</td>\n",
       "      <td>0.0</td>\n",
       "      <td>3.0</td>\n",
       "    </tr>\n",
       "    <tr>\n",
       "      <th>52</th>\n",
       "      <td>1.0</td>\n",
       "      <td>0.0</td>\n",
       "      <td>5.0</td>\n",
       "      <td>0.0</td>\n",
       "      <td>0.0</td>\n",
       "      <td>2.0</td>\n",
       "    </tr>\n",
       "  </tbody>\n",
       "</table>\n",
       "</div>"
      ],
      "text/plain": [
       "customer     1    2    3    4    6    8\n",
       "productId                              \n",
       "48         1.0  0.0  4.0  0.0  0.0  1.0\n",
       "49         2.0  0.0  2.0  0.0  0.0  3.0\n",
       "50         2.0  0.0  4.0  0.0  0.0  5.0\n",
       "51         4.0  0.0  3.0  0.0  0.0  3.0\n",
       "52         1.0  0.0  5.0  0.0  0.0  2.0"
      ]
     },
     "execution_count": 14,
     "metadata": {},
     "output_type": "execute_result"
    }
   ],
   "source": [
    "product_user_mat.head()"
   ]
  },
  {
   "cell_type": "code",
   "execution_count": 15,
   "metadata": {},
   "outputs": [],
   "source": [
    "# obtenir le liste de rating d'un produit a prtir son ProductId\n",
    "def productRat(productId):\n",
    "    ratings ={}\n",
    "    for prdId, ligne in product_user_mat.iterrows():\n",
    "        ratings[prdId] = ligne.values\n",
    "    return list(ratings[productId])"
   ]
  },
  {
   "cell_type": "code",
   "execution_count": 16,
   "metadata": {},
   "outputs": [
    {
     "data": {
      "text/plain": [
       "[1.0, 0.0, 1.0, 0.0, 0.0, 1.0]"
      ]
     },
     "execution_count": 16,
     "metadata": {},
     "output_type": "execute_result"
    }
   ],
   "source": [
    "productRat(184)"
   ]
  },
  {
   "cell_type": "markdown",
   "metadata": {},
   "source": [
    "# Application de L'algorithme"
   ]
  },
  {
   "cell_type": "code",
   "execution_count": 17,
   "metadata": {},
   "outputs": [],
   "source": [
    "def cosine_sim(X, Y):\n",
    "    c=0; rx=0; ry=0\n",
    "    if len(X) == len(Y):\n",
    "        for i in range(len(X)):\n",
    "            c += X[i]*Y[i] \n",
    "            rx += X[i]**2\n",
    "            ry += Y[i]**2\n",
    "        return c / ((rx*ry)**0.5)"
   ]
  },
  {
   "cell_type": "code",
   "execution_count": 18,
   "metadata": {},
   "outputs": [],
   "source": [
    "# Matrice de similarité entre les produits\n",
    "dists = pdist(product_user_mat, cosine_sim)\n",
    "sim_Mtx = pd.DataFrame(squareform(dists), columns=product_user_mat.index, index=product_user_mat.index)"
   ]
  },
  {
   "cell_type": "code",
   "execution_count": 19,
   "metadata": {},
   "outputs": [],
   "source": [
    "def make_recommendation(n_prdtRec, userId):\n",
    "    \"\"\"\n",
    "    Parameters\n",
    "    ----------\n",
    "    n_prdtRec  : Nombre de produits à recommander\n",
    "    userId     : L'utilisateur pour lequel on va commander les articles\n",
    "\n",
    "    Return\n",
    "    ------\n",
    "    liste des n produit à recommander\n",
    "    \"\"\"\n",
    "    # liste des Prédictions de rating pour les produits non evalué par l'utilistater 'userId'\n",
    "    R=[]\n",
    "    for noratedPrdtId in norate[userId]:\n",
    "        S1=0; S2=0\n",
    "        for ratedPrdtId in rate[userId]:\n",
    "            r=product_user_mat[userId][ratedPrdtId]\n",
    "            S1 += sim_Mtx[noratedPrdtId][ratedPrdtId]*r\n",
    "            S2 += sim_Mtx[noratedPrdtId][ratedPrdtId]\n",
    "        if S2 == 0:\n",
    "            ri = 0\n",
    "        else:\n",
    "            ri = S1 / S2\n",
    "        R.append((noratedPrdtId, productTitle(noratedPrdtId), ri))\n",
    "        \n",
    "    # trier la liste\n",
    "    for i in range(len(R)-1):\n",
    "        for j in range(i,len(R)):\n",
    "            if R[i][2]<R[j][2]:\n",
    "                ECH=R[i]\n",
    "                R[i]=R[j]\n",
    "                R[j]=ECH\n",
    "    \n",
    "    #affichage de 'n_prdtRec' produits\n",
    "    print(f\"Les {n_prdtRec} produits recommandé  pour l'utilisateur {userId} :\")\n",
    "    for prdId, title, rating in R[:n_prdtRec]:\n",
    "        print(f'{prdId} : {title} avec un rating = {rating}')"
   ]
  },
  {
   "cell_type": "code",
   "execution_count": 20,
   "metadata": {},
   "outputs": [
    {
     "name": "stdout",
     "output_type": "stream",
     "text": [
      "Les 10 produits recommandé  pour l'utilisateur 6 :\n",
      "526 : Men Solid Flap Pocket Cargo Pants avec un rating = 3.0052532702747503\n",
      "539 : Men Contrast Camo Drawstring Waist Pants avec un rating = 3.0023575904315583\n",
      "531 : Men Striped Print Symmetrical Pocket Tailored Pants avec un rating = 2.9958023294818226\n",
      "528 : Men Colorful Splash Ink Print Pants avec un rating = 2.9912310130487354\n",
      "533 : Men Fire Print Drawstring Sweatpants avec un rating = 2.9891984055802174\n",
      "530 : Men Contrast Panel Letter Patched Sweatpants avec un rating = 2.9891984055802174\n",
      "540 : Men Pocket Side Tailored Pants avec un rating = 2.9891984055802174\n",
      "541 : SHEIN Men Zipper Fly Allover Print Tailored Pants avec un rating = 2.9861473588983767\n",
      "535 : Men Tribal Print Harem Pants avec un rating = 2.980073257967493\n",
      "529 : Men Solid Slant Pocket Tailored Pants avec un rating = 2.9747521347762387\n"
     ]
    }
   ],
   "source": [
    "make_recommendation(\n",
    "    n_prdtRec = 10,\n",
    "    userId = 6\n",
    ")"
   ]
  }
 ],
 "metadata": {
  "kernelspec": {
   "display_name": "Python 3",
   "language": "python",
   "name": "python3"
  },
  "language_info": {
   "codemirror_mode": {
    "name": "ipython",
    "version": 3
   },
   "file_extension": ".py",
   "mimetype": "text/x-python",
   "name": "python",
   "nbconvert_exporter": "python",
   "pygments_lexer": "ipython3",
   "version": "3.6.12"
  }
 },
 "nbformat": 4,
 "nbformat_minor": 4
}
